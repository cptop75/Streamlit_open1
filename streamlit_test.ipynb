{
 "cells": [
  {
   "cell_type": "code",
   "execution_count": 2,
   "id": "538504c3",
   "metadata": {},
   "outputs": [],
   "source": [
    "import streamlit as st\n",
    "import pandas as pd\n",
    "import numpy as np"
   ]
  },
  {
   "cell_type": "code",
   "execution_count": 11,
   "id": "86290673",
   "metadata": {},
   "outputs": [],
   "source": [
    "st.title('My first app')\n",
    "st.write(\"Here's our first attempt at using data to create a table:\")\n",
    "st.write(pd.DataFrame({\n",
    "    'first column': [1, 2, 3, 4],\n",
    "    'second column': [10, 20, 30, 40]\n",
    "}))"
   ]
  },
  {
   "cell_type": "code",
   "execution_count": null,
   "id": "357a19c5",
   "metadata": {},
   "outputs": [],
   "source": []
  }
 ],
 "metadata": {
  "kernelspec": {
   "display_name": "python_p37",
   "language": "python",
   "name": "note3.7"
  },
  "language_info": {
   "codemirror_mode": {
    "name": "ipython",
    "version": 3
   },
   "file_extension": ".py",
   "mimetype": "text/x-python",
   "name": "python",
   "nbconvert_exporter": "python",
   "pygments_lexer": "ipython3",
   "version": "3.7.11"
  }
 },
 "nbformat": 4,
 "nbformat_minor": 5
}
