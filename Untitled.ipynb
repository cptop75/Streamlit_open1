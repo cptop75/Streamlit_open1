{
 "cells": [
  {
   "cell_type": "code",
   "execution_count": null,
   "id": "3408d8fa",
   "metadata": {},
   "outputs": [],
   "source": []
  }
 ],
 "metadata": {
  "kernelspec": {
   "display_name": "notepy",
   "language": "python",
   "name": "notepy"
  }
 },
 "nbformat": 4,
 "nbformat_minor": 5
}
